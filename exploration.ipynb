{
 "cells": [
  {
   "cell_type": "markdown",
   "metadata": {},
   "source": [
    "# Meeting around"
   ]
  },
  {
   "cell_type": "markdown",
   "metadata": {},
   "source": [
    "For any given pair of uid s, determine when and where they could have met each other as\n",
    "they moved through the building. Please state your assumptions about what would constitute\n",
    "a “meeting.” Note that the coordinates can be assumed to be 1 unit = 1 meter."
   ]
  },
  {
   "cell_type": "markdown",
   "metadata": {},
   "source": [
    "## Design Rationale\n",
    "\n",
    "When I'm about to work with Data I usually split the work in two parts: Exploration and Optimisation\n",
    "\n",
    "### Exploration\n",
    "\n",
    "I try to get some intuition about the dataset. What is it about? What are features? Is it clean or do I need to pre-process it somehow? \n",
    "\n",
    "In terms of tooling, I know two different ecosystems R and Python. I like and know Python better so I will go for it and that's why you are reading this notebook. I could probably do the same job with Rmarkdown but I would be less efficient.\n",
    "\n",
    "### Optimisation\n",
    "\n",
    "Once I will get a proper sense of the solution I will implement it in a more optimised way and with a faster language. The technological choice is often influenced by the company policy. If everybody codes in Java it would be Java. Today, this my choice so I will pick Scala because I really like the functional programming paradigm.\n",
    "\n",
    "> **What is following is the Exploration part**"
   ]
  },
  {
   "cell_type": "markdown",
   "metadata": {},
   "source": [
    "## Prerequesite\n",
    "\n",
    "* Python 3 (https://www.python.org/download/releases/3.0/)\n",
    "* Pandas (http://pandas.pydata.org/)"
   ]
  },
  {
   "cell_type": "markdown",
   "metadata": {},
   "source": [
    "## Load the libraries"
   ]
  },
  {
   "cell_type": "code",
   "execution_count": 1,
   "metadata": {
    "collapsed": true
   },
   "outputs": [],
   "source": [
    "import pandas as pd"
   ]
  },
  {
   "cell_type": "markdown",
   "metadata": {},
   "source": [
    "## Load the dataset"
   ]
  },
  {
   "cell_type": "code",
   "execution_count": 2,
   "metadata": {
    "collapsed": false
   },
   "outputs": [],
   "source": [
    "df = pd.read_csv('reduced.csv')"
   ]
  },
  {
   "cell_type": "code",
   "execution_count": 3,
   "metadata": {
    "collapsed": false
   },
   "outputs": [
    {
     "data": {
      "text/html": [
       "<div>\n",
       "<table border=\"1\" class=\"dataframe\">\n",
       "  <thead>\n",
       "    <tr style=\"text-align: right;\">\n",
       "      <th></th>\n",
       "      <th>x</th>\n",
       "      <th>y</th>\n",
       "      <th>floor</th>\n",
       "    </tr>\n",
       "  </thead>\n",
       "  <tbody>\n",
       "    <tr>\n",
       "      <th>count</th>\n",
       "      <td>2228820.000000</td>\n",
       "      <td>2228820.000000</td>\n",
       "      <td>2228820.000000</td>\n",
       "    </tr>\n",
       "    <tr>\n",
       "      <th>mean</th>\n",
       "      <td>94.075081</td>\n",
       "      <td>75.104579</td>\n",
       "      <td>2.146474</td>\n",
       "    </tr>\n",
       "    <tr>\n",
       "      <th>std</th>\n",
       "      <td>19.266067</td>\n",
       "      <td>11.735871</td>\n",
       "      <td>0.809170</td>\n",
       "    </tr>\n",
       "    <tr>\n",
       "      <th>min</th>\n",
       "      <td>43.702972</td>\n",
       "      <td>42.494525</td>\n",
       "      <td>1.000000</td>\n",
       "    </tr>\n",
       "    <tr>\n",
       "      <th>25%</th>\n",
       "      <td>81.227639</td>\n",
       "      <td>66.223634</td>\n",
       "      <td>1.000000</td>\n",
       "    </tr>\n",
       "    <tr>\n",
       "      <th>50%</th>\n",
       "      <td>104.203185</td>\n",
       "      <td>71.151381</td>\n",
       "      <td>2.000000</td>\n",
       "    </tr>\n",
       "    <tr>\n",
       "      <th>75%</th>\n",
       "      <td>108.025986</td>\n",
       "      <td>86.434109</td>\n",
       "      <td>3.000000</td>\n",
       "    </tr>\n",
       "    <tr>\n",
       "      <th>max</th>\n",
       "      <td>115.081924</td>\n",
       "      <td>102.755955</td>\n",
       "      <td>3.000000</td>\n",
       "    </tr>\n",
       "  </tbody>\n",
       "</table>\n",
       "</div>"
      ],
      "text/plain": [
       "                    x               y           floor\n",
       "count  2228820.000000  2228820.000000  2228820.000000\n",
       "mean        94.075081       75.104579        2.146474\n",
       "std         19.266067       11.735871        0.809170\n",
       "min         43.702972       42.494525        1.000000\n",
       "25%         81.227639       66.223634        1.000000\n",
       "50%        104.203185       71.151381        2.000000\n",
       "75%        108.025986       86.434109        3.000000\n",
       "max        115.081924      102.755955        3.000000"
      ]
     },
     "execution_count": 3,
     "metadata": {},
     "output_type": "execute_result"
    }
   ],
   "source": [
    "# Gives an overview of the dataset\n",
    "df.describe()"
   ]
  },
  {
   "cell_type": "code",
   "execution_count": 9,
   "metadata": {
    "collapsed": false
   },
   "outputs": [
    {
     "data": {
      "text/html": [
       "<div>\n",
       "<table border=\"1\" class=\"dataframe\">\n",
       "  <thead>\n",
       "    <tr style=\"text-align: right;\">\n",
       "      <th></th>\n",
       "      <th>timestamp</th>\n",
       "      <th>x</th>\n",
       "      <th>y</th>\n",
       "      <th>floor</th>\n",
       "      <th>uid</th>\n",
       "    </tr>\n",
       "  </thead>\n",
       "  <tbody>\n",
       "    <tr>\n",
       "      <th>0</th>\n",
       "      <td>2014-07-19T16:00:06.071Z</td>\n",
       "      <td>103.792110</td>\n",
       "      <td>71.504194</td>\n",
       "      <td>1</td>\n",
       "      <td>600dfbe2</td>\n",
       "    </tr>\n",
       "    <tr>\n",
       "      <th>1</th>\n",
       "      <td>2014-07-19T16:00:06.074Z</td>\n",
       "      <td>110.336130</td>\n",
       "      <td>100.682839</td>\n",
       "      <td>1</td>\n",
       "      <td>5e7b40e1</td>\n",
       "    </tr>\n",
       "    <tr>\n",
       "      <th>2</th>\n",
       "      <td>2014-07-19T16:00:06.076Z</td>\n",
       "      <td>110.066315</td>\n",
       "      <td>86.488736</td>\n",
       "      <td>1</td>\n",
       "      <td>285d22e4</td>\n",
       "    </tr>\n",
       "    <tr>\n",
       "      <th>3</th>\n",
       "      <td>2014-07-19T16:00:06.076Z</td>\n",
       "      <td>103.784990</td>\n",
       "      <td>71.456331</td>\n",
       "      <td>1</td>\n",
       "      <td>74d917a1</td>\n",
       "    </tr>\n",
       "    <tr>\n",
       "      <th>4</th>\n",
       "      <td>2014-07-19T16:00:06.076Z</td>\n",
       "      <td>109.094950</td>\n",
       "      <td>92.824487</td>\n",
       "      <td>1</td>\n",
       "      <td>3c3649fb</td>\n",
       "    </tr>\n",
       "  </tbody>\n",
       "</table>\n",
       "</div>"
      ],
      "text/plain": [
       "                  timestamp           x           y  floor       uid\n",
       "0  2014-07-19T16:00:06.071Z  103.792110   71.504194      1  600dfbe2\n",
       "1  2014-07-19T16:00:06.074Z  110.336130  100.682839      1  5e7b40e1\n",
       "2  2014-07-19T16:00:06.076Z  110.066315   86.488736      1  285d22e4\n",
       "3  2014-07-19T16:00:06.076Z  103.784990   71.456331      1  74d917a1\n",
       "4  2014-07-19T16:00:06.076Z  109.094950   92.824487      1  3c3649fb"
      ]
     },
     "execution_count": 9,
     "metadata": {},
     "output_type": "execute_result"
    }
   ],
   "source": [
    "df.head()"
   ]
  },
  {
   "cell_type": "code",
   "execution_count": 10,
   "metadata": {
    "collapsed": false
   },
   "outputs": [
    {
     "data": {
      "text/plain": [
       "12991"
      ]
     },
     "execution_count": 10,
     "metadata": {},
     "output_type": "execute_result"
    }
   ],
   "source": [
    "# number of people in the building\n",
    "len(df.uid.unique())"
   ]
  },
  {
   "cell_type": "code",
   "execution_count": 14,
   "metadata": {
    "collapsed": false
   },
   "outputs": [
    {
     "name": "stdout",
     "output_type": "stream",
     "text": [
      "the dataset starts on 2014-07-19T16:00:06.071Z and ends on 2014-07-20T15:59:58.853Z\n"
     ]
    }
   ],
   "source": [
    "print('the dataset starts on {0} and ends on {1}'.format(df.timestamp[0], df.timestamp[df.timestamp.count()-1]))"
   ]
  },
  {
   "cell_type": "code",
   "execution_count": 16,
   "metadata": {
    "collapsed": false
   },
   "outputs": [
    {
     "name": "stdout",
     "output_type": "stream",
     "text": [
      "there are 3 floors [1 2 3]\n"
     ]
    }
   ],
   "source": [
    "unique_floors = df.floor.unique()\n",
    "print('there are {0} floors {1}'.format(len(unique_floors), unique_floors))"
   ]
  },
  {
   "cell_type": "markdown",
   "metadata": {},
   "source": [
    "## My assumptions\n",
    "TBD"
   ]
  },
  {
   "cell_type": "markdown",
   "metadata": {},
   "source": [
    "## Helpers"
   ]
  },
  {
   "cell_type": "code",
   "execution_count": 18,
   "metadata": {
    "collapsed": true
   },
   "outputs": [],
   "source": [
    "def get_subset(df, a, b):\n",
    "    \"\"\"\n",
    "    Returns a subset of DataFrame for user a and user b (data are duplicated to preserve the source)\n",
    "    :param df: dataset\n",
    "    :type board: pandas.core.frame.DataFrame\n",
    "    :param a: a first user id\n",
    "    :type a: str\n",
    "    :param b: state of the current game\n",
    "    :type b: a second user id\n",
    "    \"\"\"\n",
    "    assert a != b, \"uids should be different\"\n",
    "    return df[(df.uid == a) | (df.uid == b)].copy()\n",
    "\n",
    "from math import pow, sqrt\n",
    "\n",
    "def calc_coord_dist(x1, y1, x2, y2):\n",
    "    \"\"\"\n",
    "    Returns the Euclidean distance betwen two pairs of coordinate \n",
    "    (we could also have taken the Manhattan distance)\n",
    "    :param x1: x coordinate of first pair\n",
    "    :type x1: float\n",
    "    :param y1: y coordinate of first pair\n",
    "    :type y1: float\n",
    "    :param x2: x coordinate of second pair\n",
    "    :type x2: float\n",
    "    :param y2: y coordinate of second pair\n",
    "    :type y2: float\n",
    "\n",
    "    \"\"\"\n",
    "    return sqrt(pow(x2 - x1, 2) + pow(y2 - y1, 2))"
   ]
  },
  {
   "cell_type": "markdown",
   "metadata": {},
   "source": [
    "## Extract a subset of the dataset for 2 user\n",
    "On one hand it is helping me to get a better intuition of the dataset. \n",
    "On the other hand, it will improve the next operations in terms of space and processing time. N is smaller.\n",
    "(I know I still have \"df\" in memory but let's assume it is not ;) )"
   ]
  },
  {
   "cell_type": "code",
   "execution_count": 6,
   "metadata": {
    "collapsed": true
   },
   "outputs": [],
   "source": [
    "a = '600dfbe2'\n",
    "b = '5e7b40e1'"
   ]
  },
  {
   "cell_type": "code",
   "execution_count": 7,
   "metadata": {
    "collapsed": true
   },
   "outputs": [],
   "source": [
    "subset = get_subset(df, a, b)"
   ]
  },
  {
   "cell_type": "code",
   "execution_count": 8,
   "metadata": {
    "collapsed": false
   },
   "outputs": [
    {
     "data": {
      "text/plain": [
       "timestamp    True\n",
       "x            True\n",
       "y            True\n",
       "floor        True\n",
       "uid          True\n",
       "dtype: bool"
      ]
     },
     "execution_count": 8,
     "metadata": {},
     "output_type": "execute_result"
    }
   ],
   "source": [
    "# the following assertion must be True\n",
    "subset.count() == df[df.uid == a].count() + df[df.uid == b].count()"
   ]
  },
  {
   "cell_type": "code",
   "execution_count": null,
   "metadata": {
    "collapsed": true
   },
   "outputs": [],
   "source": []
  }
 ],
 "metadata": {
  "kernelspec": {
   "display_name": "Python 3",
   "language": "python",
   "name": "python3"
  },
  "language_info": {
   "codemirror_mode": {
    "name": "ipython",
    "version": 3
   },
   "file_extension": ".py",
   "mimetype": "text/x-python",
   "name": "python",
   "nbconvert_exporter": "python",
   "pygments_lexer": "ipython3",
   "version": "3.4.3"
  }
 },
 "nbformat": 4,
 "nbformat_minor": 1
}
