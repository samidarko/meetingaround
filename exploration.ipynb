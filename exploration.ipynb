{
 "cells": [
  {
   "cell_type": "markdown",
   "metadata": {},
   "source": [
    "# Meeting around"
   ]
  },
  {
   "cell_type": "markdown",
   "metadata": {},
   "source": [
    "For any given pair of uid s, determine when and where they could have met each other as\n",
    "they moved through the building. Please state your assumptions about what would constitute\n",
    "a “meeting.” Note that the coordinates can be assumed to be 1 unit = 1 meter."
   ]
  },
  {
   "cell_type": "markdown",
   "metadata": {},
   "source": [
    "## Design Rationale\n",
    "\n",
    "When I'm about to work with Data I usually split the work in two parts: Exploration and Optimisation\n",
    "\n",
    "### Exploration\n",
    "\n",
    "I try to get some intuition about the dataset. What is it about? What are features? Is it clean or do I need to pre-process it somehow? \n",
    "\n",
    "In terms of tooling, I know two different ecosystems R and Python. I like and know Python better so I will go for it and that's why you are reading this notebook. I could probably do the same job with Rmarkdown but I would be less efficient.\n",
    "\n",
    "### Optimisation\n",
    "\n",
    "Once I will get a proper sense of the solution I will implement it in a more optimised way and with a faster language. The technological choice is often influenced by the company policy. If everybody codes in Java it would be Java. Today, this my choice so I will pick Scala because I really like the functional programming paradigm.\n",
    "\n",
    "> **What is following is the Exploration part**"
   ]
  },
  {
   "cell_type": "markdown",
   "metadata": {},
   "source": [
    "## Prerequesite\n",
    "\n",
    "* Python 3 (https://www.python.org/download/releases/3.0/)\n",
    "* Pandas (http://pandas.pydata.org/)"
   ]
  },
  {
   "cell_type": "markdown",
   "metadata": {},
   "source": [
    "## Load the libraries"
   ]
  },
  {
   "cell_type": "code",
   "execution_count": 32,
   "metadata": {
    "collapsed": true
   },
   "outputs": [],
   "source": [
    "import time\n",
    "from datetime import datetime, timedelta\n",
    "import dateutil.parser\n",
    "import pandas as pd\n",
    "from math import pow, sqrt"
   ]
  },
  {
   "cell_type": "markdown",
   "metadata": {},
   "source": [
    "## Load the dataset"
   ]
  },
  {
   "cell_type": "code",
   "execution_count": 5,
   "metadata": {
    "collapsed": false
   },
   "outputs": [],
   "source": [
    "df = pd.read_csv('reduced.csv')"
   ]
  },
  {
   "cell_type": "code",
   "execution_count": 6,
   "metadata": {
    "collapsed": false
   },
   "outputs": [
    {
     "data": {
      "text/html": [
       "<div>\n",
       "<table border=\"1\" class=\"dataframe\">\n",
       "  <thead>\n",
       "    <tr style=\"text-align: right;\">\n",
       "      <th></th>\n",
       "      <th>x</th>\n",
       "      <th>y</th>\n",
       "      <th>floor</th>\n",
       "    </tr>\n",
       "  </thead>\n",
       "  <tbody>\n",
       "    <tr>\n",
       "      <th>count</th>\n",
       "      <td>2.228820e+06</td>\n",
       "      <td>2.228820e+06</td>\n",
       "      <td>2.228820e+06</td>\n",
       "    </tr>\n",
       "    <tr>\n",
       "      <th>mean</th>\n",
       "      <td>9.407508e+01</td>\n",
       "      <td>7.510458e+01</td>\n",
       "      <td>2.146474e+00</td>\n",
       "    </tr>\n",
       "    <tr>\n",
       "      <th>std</th>\n",
       "      <td>1.926607e+01</td>\n",
       "      <td>1.173587e+01</td>\n",
       "      <td>8.091698e-01</td>\n",
       "    </tr>\n",
       "    <tr>\n",
       "      <th>min</th>\n",
       "      <td>4.370297e+01</td>\n",
       "      <td>4.249453e+01</td>\n",
       "      <td>1.000000e+00</td>\n",
       "    </tr>\n",
       "    <tr>\n",
       "      <th>25%</th>\n",
       "      <td>8.122764e+01</td>\n",
       "      <td>6.622363e+01</td>\n",
       "      <td>1.000000e+00</td>\n",
       "    </tr>\n",
       "    <tr>\n",
       "      <th>50%</th>\n",
       "      <td>1.042032e+02</td>\n",
       "      <td>7.115138e+01</td>\n",
       "      <td>2.000000e+00</td>\n",
       "    </tr>\n",
       "    <tr>\n",
       "      <th>75%</th>\n",
       "      <td>1.080260e+02</td>\n",
       "      <td>8.643411e+01</td>\n",
       "      <td>3.000000e+00</td>\n",
       "    </tr>\n",
       "    <tr>\n",
       "      <th>max</th>\n",
       "      <td>1.150819e+02</td>\n",
       "      <td>1.027560e+02</td>\n",
       "      <td>3.000000e+00</td>\n",
       "    </tr>\n",
       "  </tbody>\n",
       "</table>\n",
       "</div>"
      ],
      "text/plain": [
       "                  x             y         floor\n",
       "count  2.228820e+06  2.228820e+06  2.228820e+06\n",
       "mean   9.407508e+01  7.510458e+01  2.146474e+00\n",
       "std    1.926607e+01  1.173587e+01  8.091698e-01\n",
       "min    4.370297e+01  4.249453e+01  1.000000e+00\n",
       "25%    8.122764e+01  6.622363e+01  1.000000e+00\n",
       "50%    1.042032e+02  7.115138e+01  2.000000e+00\n",
       "75%    1.080260e+02  8.643411e+01  3.000000e+00\n",
       "max    1.150819e+02  1.027560e+02  3.000000e+00"
      ]
     },
     "execution_count": 6,
     "metadata": {},
     "output_type": "execute_result"
    }
   ],
   "source": [
    "# Gives an overview of the dataset\n",
    "df.describe()"
   ]
  },
  {
   "cell_type": "code",
   "execution_count": 7,
   "metadata": {
    "collapsed": false
   },
   "outputs": [
    {
     "data": {
      "text/html": [
       "<div>\n",
       "<table border=\"1\" class=\"dataframe\">\n",
       "  <thead>\n",
       "    <tr style=\"text-align: right;\">\n",
       "      <th></th>\n",
       "      <th>timestamp</th>\n",
       "      <th>x</th>\n",
       "      <th>y</th>\n",
       "      <th>floor</th>\n",
       "      <th>uid</th>\n",
       "    </tr>\n",
       "  </thead>\n",
       "  <tbody>\n",
       "    <tr>\n",
       "      <th>0</th>\n",
       "      <td>2014-07-19T16:00:06.071Z</td>\n",
       "      <td>103.792110</td>\n",
       "      <td>71.504194</td>\n",
       "      <td>1</td>\n",
       "      <td>600dfbe2</td>\n",
       "    </tr>\n",
       "    <tr>\n",
       "      <th>1</th>\n",
       "      <td>2014-07-19T16:00:06.074Z</td>\n",
       "      <td>110.336130</td>\n",
       "      <td>100.682839</td>\n",
       "      <td>1</td>\n",
       "      <td>5e7b40e1</td>\n",
       "    </tr>\n",
       "    <tr>\n",
       "      <th>2</th>\n",
       "      <td>2014-07-19T16:00:06.076Z</td>\n",
       "      <td>110.066315</td>\n",
       "      <td>86.488736</td>\n",
       "      <td>1</td>\n",
       "      <td>285d22e4</td>\n",
       "    </tr>\n",
       "    <tr>\n",
       "      <th>3</th>\n",
       "      <td>2014-07-19T16:00:06.076Z</td>\n",
       "      <td>103.784990</td>\n",
       "      <td>71.456331</td>\n",
       "      <td>1</td>\n",
       "      <td>74d917a1</td>\n",
       "    </tr>\n",
       "    <tr>\n",
       "      <th>4</th>\n",
       "      <td>2014-07-19T16:00:06.076Z</td>\n",
       "      <td>109.094950</td>\n",
       "      <td>92.824487</td>\n",
       "      <td>1</td>\n",
       "      <td>3c3649fb</td>\n",
       "    </tr>\n",
       "  </tbody>\n",
       "</table>\n",
       "</div>"
      ],
      "text/plain": [
       "                  timestamp           x           y  floor       uid\n",
       "0  2014-07-19T16:00:06.071Z  103.792110   71.504194      1  600dfbe2\n",
       "1  2014-07-19T16:00:06.074Z  110.336130  100.682839      1  5e7b40e1\n",
       "2  2014-07-19T16:00:06.076Z  110.066315   86.488736      1  285d22e4\n",
       "3  2014-07-19T16:00:06.076Z  103.784990   71.456331      1  74d917a1\n",
       "4  2014-07-19T16:00:06.076Z  109.094950   92.824487      1  3c3649fb"
      ]
     },
     "execution_count": 7,
     "metadata": {},
     "output_type": "execute_result"
    }
   ],
   "source": [
    "df.head()"
   ]
  },
  {
   "cell_type": "code",
   "execution_count": 8,
   "metadata": {
    "collapsed": false
   },
   "outputs": [
    {
     "data": {
      "text/plain": [
       "12991"
      ]
     },
     "execution_count": 8,
     "metadata": {},
     "output_type": "execute_result"
    }
   ],
   "source": [
    "# number of people in the building\n",
    "len(df.uid.unique())"
   ]
  },
  {
   "cell_type": "code",
   "execution_count": 9,
   "metadata": {
    "collapsed": false
   },
   "outputs": [
    {
     "name": "stdout",
     "output_type": "stream",
     "text": [
      "the dataset starts on 2014-07-19T16:00:06.071Z and ends on 2014-07-20T15:59:58.853Z\n"
     ]
    }
   ],
   "source": [
    "print('the dataset starts on {0} and ends on {1}'.format(df.timestamp[0], df.timestamp[df.timestamp.count()-1]))"
   ]
  },
  {
   "cell_type": "code",
   "execution_count": 10,
   "metadata": {
    "collapsed": false
   },
   "outputs": [
    {
     "name": "stdout",
     "output_type": "stream",
     "text": [
      "there are 3 floors [1 2 3]\n"
     ]
    }
   ],
   "source": [
    "unique_floors = df.floor.unique()\n",
    "print('there are {0} floors {1}'.format(len(unique_floors), unique_floors))"
   ]
  },
  {
   "cell_type": "markdown",
   "metadata": {},
   "source": [
    "## What is a meeting\n",
    "I will assume that a meeting could happend if the two people where:\n",
    " * Are on the same floor\n",
    " * In a distance less than 5 units\n",
    " * In a timeframe of more or less 5 minutes"
   ]
  },
  {
   "cell_type": "markdown",
   "metadata": {},
   "source": [
    "## Helpers"
   ]
  },
  {
   "cell_type": "code",
   "execution_count": 28,
   "metadata": {
    "collapsed": true
   },
   "outputs": [],
   "source": [
    "def get_subset(df, a, b, floor = None):\n",
    "    \"\"\"\n",
    "    Returns a subset of DataFrame for user a and user b (data are duplicated to preserve the source)\n",
    "    :param df: dataset\n",
    "    :type board: pandas.core.frame.DataFrame\n",
    "    :param a: a first user id\n",
    "    :type a: str\n",
    "    :param b: state of the current game\n",
    "    :type b: a second user id\n",
    "    \"\"\"\n",
    "    assert a != b, \"uids should be different\"\n",
    "    indexing = ((df.uid == a) | (df.uid == b)) if floor is None else (((df.uid == a) | (df.uid == b)) & df.floor == floor)\n",
    "    return df[indexing].copy()\n",
    "\n",
    "def get_coord(dp):\n",
    "    return dp.x, dp.y\n",
    "\n",
    "def calc_coord_dist(p1, p2):\n",
    "    \"\"\"\n",
    "    Returns the Euclidean distance betwen two pairs of coordinate \n",
    "    :param x1: x coordinate of first pair\n",
    "    :type x1: float\n",
    "    :param y1: y coordinate of first pair\n",
    "    :type y1: float\n",
    "    :param x2: x coordinate of second pair\n",
    "    :type x2: float\n",
    "    :param y2: y coordinate of second pair\n",
    "    :type y2: float\n",
    "    \n",
    "    \"\"\"\n",
    "    x1, y1 = get_coord(p1)\n",
    "    x2, y2 = get_coord(p2)\n",
    "    return sqrt(pow(x2 - x1, 2) + pow(y2 - y1, 2))\n",
    "\n",
    "def from_iso_to_unix_ts(iso):\n",
    "    \"\"\"\n",
    "    Returns a unix timestamp (time from 'epoch' - 00:00:00 UTC on 1 January 1970 - in seconds)\n",
    "    :param dt: ISO date\n",
    "    :type dt: str\n",
    "    :return: a Unix Timestamp\n",
    "    \"\"\"\n",
    "    return int(time.mktime(dateutil.parser.parse(iso).timetuple()))"
   ]
  },
  {
   "cell_type": "markdown",
   "metadata": {},
   "source": [
    "## Extract a subset of the dataset for 2 user\n",
    "On one hand it is helping me to get a better intuition of the dataset. \n",
    "On the other hand, it will improve the next operations in terms of space and processing time. N is smaller.\n",
    "(I know I still have \"df\" in memory but let's assume it is not ;) )"
   ]
  },
  {
   "cell_type": "code",
   "execution_count": 17,
   "metadata": {
    "collapsed": true
   },
   "outputs": [],
   "source": [
    "a = '600dfbe2'\n",
    "b = '5e7b40e1'"
   ]
  },
  {
   "cell_type": "code",
   "execution_count": 26,
   "metadata": {
    "collapsed": true
   },
   "outputs": [],
   "source": [
    "subset = get_subset(df, a, b, floor=1)"
   ]
  },
  {
   "cell_type": "code",
   "execution_count": 19,
   "metadata": {
    "collapsed": false
   },
   "outputs": [
    {
     "data": {
      "text/plain": [
       "timestamp    True\n",
       "x            True\n",
       "y            True\n",
       "floor        True\n",
       "uid          True\n",
       "dtype: bool"
      ]
     },
     "execution_count": 19,
     "metadata": {},
     "output_type": "execute_result"
    }
   ],
   "source": [
    "# the following assertion must be True\n",
    "subset.count() == df[df.uid == a].count() + df[df.uid == b].count()"
   ]
  },
  {
   "cell_type": "markdown",
   "metadata": {
    "collapsed": true
   },
   "source": [
    "## Which kind of problem\n",
    "\n",
    "I'm classifying this problem as [closest pair of points](https://en.wikipedia.org/wiki/Closest_pair_of_points_problem) type"
   ]
  },
  {
   "cell_type": "markdown",
   "metadata": {},
   "source": [
    "### Solution 1: Brute-force algorithm\n",
    "\n",
    "This solution has a time complexity of  O(n2) and space O(n). I'm going modify the algorithm not to find the closest but to exit when the first pair fulfilling the requirements is found."
   ]
  },
  {
   "cell_type": "code",
   "execution_count": 40,
   "metadata": {
    "collapsed": false
   },
   "outputs": [
    {
     "name": "stdout",
     "output_type": "stream",
     "text": [
      "((103.79211, 71.50419417988532), (110.33613000000001, 100.6828393188978))\n"
     ]
    }
   ],
   "source": [
    "def solution_bf(sub, user_a, user_b, time_frame, min_distance):\n",
    "    subset_user_a = sub[sub.uid == user_a]\n",
    "    subset_user_b = sub[sub.uid == user_b]\n",
    "    for index_a, dp_a in subset_user_a.iterrows():\n",
    "        for index_b, dp_b in subset_user_b.iterrows():\n",
    "            if index_a == index_b:\n",
    "                continue\n",
    "            time_delta = abs(from_iso_to_unix_ts(dp_a.timestamp) - from_iso_to_unix_ts(dp_b.timestamp))\n",
    "            distance = calc_coord_dist(dp_a, dp_b)\n",
    "            if time_delta < time_frame and distance < min_distance:\n",
    "                return (get_coord(dp_a), get_coord(dp_b))\n",
    "                # return True \n",
    "    return ()\n",
    "    # return False\n",
    "\n",
    "print(solution_bf(subset, a, b, 300, 50))"
   ]
  },
  {
   "cell_type": "markdown",
   "metadata": {},
   "source": [
    "This solution works fine for small dataset but its time complexity increase quadratically due to the nested for loop. \n",
    "\n",
    "If I could obtain a quick response above it is because I defined a radius of 50 meter/unit."
   ]
  },
  {
   "cell_type": "markdown",
   "metadata": {},
   "source": [
    "### Solution 2: Divide and Conquer algorithm\n",
    "\n",
    "complexity O(nlogn)"
   ]
  },
  {
   "cell_type": "code",
   "execution_count": null,
   "metadata": {
    "collapsed": true
   },
   "outputs": [],
   "source": [
    "def brute_force():\n",
    "    pass\n",
    "\n",
    "def strip_closest(strip, d):\n",
    "    pass\n",
    "\n",
    "def find_closest(dps, size):\n",
    "    size = len(x_sorted)\n",
    "    if size <= 3:\n",
    "        return solution_bf(dps, a, b, 300, 10)\n",
    "    \n",
    "    # find middle point\n",
    "    middle = size // 2\n",
    "    middle_dp = dps.iloc[middle]\n",
    "    \n",
    "    dl = find_closest(dps[0:middle])\n",
    "    dr = find_closest(dps[middle:])\n",
    "    \n",
    "    # find smaller distance\n",
    "    d = min(dl, dr)\n",
    "    \n",
    "    # build strip array\n",
    "    strip = []\n",
    "    for _, dp in dps.iterrows():\n",
    "        if abs(dp.x - middle_dp.x) < d:\n",
    "            strip.append(dp)\n",
    "    \n",
    "    return min(d, strip_closest(strip, d))\n",
    "    \n",
    "\n",
    "def solution_dc(sub):\n",
    "    x_sorted = sub.copy()\n",
    "    x_sorted = x_sorted.sort_values(by='x')\n",
    "    return find_closest(x_sorted)\n",
    "    "
   ]
  }
 ],
 "metadata": {
  "kernelspec": {
   "display_name": "Python 3",
   "language": "python",
   "name": "python3"
  },
  "language_info": {
   "codemirror_mode": {
    "name": "ipython",
    "version": 3
   },
   "file_extension": ".py",
   "mimetype": "text/x-python",
   "name": "python",
   "nbconvert_exporter": "python",
   "pygments_lexer": "ipython3",
   "version": "3.5.1"
  }
 },
 "nbformat": 4,
 "nbformat_minor": 1
}
