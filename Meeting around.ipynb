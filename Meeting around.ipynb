{
 "cells": [
  {
   "cell_type": "markdown",
   "metadata": {},
   "source": [
    "# Meeting around"
   ]
  },
  {
   "cell_type": "markdown",
   "metadata": {},
   "source": [
    "For any given pair of uid s, determine when and where they could have met each other as\n",
    "they moved through the building. Please state your assumptions about what would constitute\n",
    "a “meeting.” Note that the coordinates can be assumed to be 1 unit = 1 meter."
   ]
  },
  {
   "cell_type": "markdown",
   "metadata": {},
   "source": [
    "## Design Rationale\n",
    "\n",
    "When I'm about to work with Data I usually split the work in two parts: Exploration and Optimisation\n",
    "\n",
    "### Exploration\n",
    "\n",
    "I try to get some intuition about the dataset. What is it about? What are features? Is it clean or do I need to pre-process it somehow? \n",
    "\n",
    "In terms of tooling, I know two different ecosystems R and Python. I like and know Python better so I will go for it and that's why you are reading this notebook. I could probably do the same job with Rmarkdown but I would be less efficient.\n",
    "\n",
    "### Optimisation\n",
    "\n",
    "Once I will get a proper sense of the solution I will implement it in a more optimised way and with a faster language. The technological choice is often influenced by the company policy. If everybody codes in Java it would be Java. Today, this my choice so I will pick Scala because I really like the functional programming paradigm.\n",
    "\n",
    "> **What is following is the Exploration part**"
   ]
  },
  {
   "cell_type": "markdown",
   "metadata": {},
   "source": [
    "## Prerequesite\n",
    "\n",
    "* Python 3\n",
    "* VirtualEnv"
   ]
  },
  {
   "cell_type": "markdown",
   "metadata": {},
   "source": [
    "## Load the libraries"
   ]
  },
  {
   "cell_type": "code",
   "execution_count": 3,
   "metadata": {
    "collapsed": true
   },
   "outputs": [],
   "source": [
    "import pandas as pd"
   ]
  },
  {
   "cell_type": "markdown",
   "metadata": {},
   "source": [
    "## Load the dataset"
   ]
  },
  {
   "cell_type": "code",
   "execution_count": 5,
   "metadata": {
    "collapsed": false
   },
   "outputs": [],
   "source": [
    "df = pd.read_csv('reduced.csv')"
   ]
  },
  {
   "cell_type": "code",
   "execution_count": 6,
   "metadata": {
    "collapsed": false
   },
   "outputs": [
    {
     "data": {
      "text/html": [
       "<div>\n",
       "<table border=\"1\" class=\"dataframe\">\n",
       "  <thead>\n",
       "    <tr style=\"text-align: right;\">\n",
       "      <th></th>\n",
       "      <th>x</th>\n",
       "      <th>y</th>\n",
       "      <th>floor</th>\n",
       "    </tr>\n",
       "  </thead>\n",
       "  <tbody>\n",
       "    <tr>\n",
       "      <th>count</th>\n",
       "      <td>2.228820e+06</td>\n",
       "      <td>2.228820e+06</td>\n",
       "      <td>2.228820e+06</td>\n",
       "    </tr>\n",
       "    <tr>\n",
       "      <th>mean</th>\n",
       "      <td>9.407508e+01</td>\n",
       "      <td>7.510458e+01</td>\n",
       "      <td>2.146474e+00</td>\n",
       "    </tr>\n",
       "    <tr>\n",
       "      <th>std</th>\n",
       "      <td>1.926607e+01</td>\n",
       "      <td>1.173587e+01</td>\n",
       "      <td>8.091698e-01</td>\n",
       "    </tr>\n",
       "    <tr>\n",
       "      <th>min</th>\n",
       "      <td>4.370297e+01</td>\n",
       "      <td>4.249453e+01</td>\n",
       "      <td>1.000000e+00</td>\n",
       "    </tr>\n",
       "    <tr>\n",
       "      <th>25%</th>\n",
       "      <td>8.122764e+01</td>\n",
       "      <td>6.622363e+01</td>\n",
       "      <td>1.000000e+00</td>\n",
       "    </tr>\n",
       "    <tr>\n",
       "      <th>50%</th>\n",
       "      <td>1.042032e+02</td>\n",
       "      <td>7.115138e+01</td>\n",
       "      <td>2.000000e+00</td>\n",
       "    </tr>\n",
       "    <tr>\n",
       "      <th>75%</th>\n",
       "      <td>1.080260e+02</td>\n",
       "      <td>8.643411e+01</td>\n",
       "      <td>3.000000e+00</td>\n",
       "    </tr>\n",
       "    <tr>\n",
       "      <th>max</th>\n",
       "      <td>1.150819e+02</td>\n",
       "      <td>1.027560e+02</td>\n",
       "      <td>3.000000e+00</td>\n",
       "    </tr>\n",
       "  </tbody>\n",
       "</table>\n",
       "</div>"
      ],
      "text/plain": [
       "                  x             y         floor\n",
       "count  2.228820e+06  2.228820e+06  2.228820e+06\n",
       "mean   9.407508e+01  7.510458e+01  2.146474e+00\n",
       "std    1.926607e+01  1.173587e+01  8.091698e-01\n",
       "min    4.370297e+01  4.249453e+01  1.000000e+00\n",
       "25%    8.122764e+01  6.622363e+01  1.000000e+00\n",
       "50%    1.042032e+02  7.115138e+01  2.000000e+00\n",
       "75%    1.080260e+02  8.643411e+01  3.000000e+00\n",
       "max    1.150819e+02  1.027560e+02  3.000000e+00"
      ]
     },
     "execution_count": 6,
     "metadata": {},
     "output_type": "execute_result"
    }
   ],
   "source": [
    "# Gives an overview of the dataset\n",
    "df.describe()"
   ]
  },
  {
   "cell_type": "code",
   "execution_count": 7,
   "metadata": {
    "collapsed": false
   },
   "outputs": [
    {
     "data": {
      "text/html": [
       "<div>\n",
       "<table border=\"1\" class=\"dataframe\">\n",
       "  <thead>\n",
       "    <tr style=\"text-align: right;\">\n",
       "      <th></th>\n",
       "      <th>timestamp</th>\n",
       "      <th>x</th>\n",
       "      <th>y</th>\n",
       "      <th>floor</th>\n",
       "      <th>uid</th>\n",
       "    </tr>\n",
       "  </thead>\n",
       "  <tbody>\n",
       "    <tr>\n",
       "      <th>0</th>\n",
       "      <td>2014-07-19T16:00:06.071Z</td>\n",
       "      <td>103.792110</td>\n",
       "      <td>71.504194</td>\n",
       "      <td>1</td>\n",
       "      <td>600dfbe2</td>\n",
       "    </tr>\n",
       "    <tr>\n",
       "      <th>1</th>\n",
       "      <td>2014-07-19T16:00:06.074Z</td>\n",
       "      <td>110.336130</td>\n",
       "      <td>100.682839</td>\n",
       "      <td>1</td>\n",
       "      <td>5e7b40e1</td>\n",
       "    </tr>\n",
       "    <tr>\n",
       "      <th>2</th>\n",
       "      <td>2014-07-19T16:00:06.076Z</td>\n",
       "      <td>110.066315</td>\n",
       "      <td>86.488736</td>\n",
       "      <td>1</td>\n",
       "      <td>285d22e4</td>\n",
       "    </tr>\n",
       "    <tr>\n",
       "      <th>3</th>\n",
       "      <td>2014-07-19T16:00:06.076Z</td>\n",
       "      <td>103.784990</td>\n",
       "      <td>71.456331</td>\n",
       "      <td>1</td>\n",
       "      <td>74d917a1</td>\n",
       "    </tr>\n",
       "    <tr>\n",
       "      <th>4</th>\n",
       "      <td>2014-07-19T16:00:06.076Z</td>\n",
       "      <td>109.094950</td>\n",
       "      <td>92.824487</td>\n",
       "      <td>1</td>\n",
       "      <td>3c3649fb</td>\n",
       "    </tr>\n",
       "  </tbody>\n",
       "</table>\n",
       "</div>"
      ],
      "text/plain": [
       "                  timestamp           x           y  floor       uid\n",
       "0  2014-07-19T16:00:06.071Z  103.792110   71.504194      1  600dfbe2\n",
       "1  2014-07-19T16:00:06.074Z  110.336130  100.682839      1  5e7b40e1\n",
       "2  2014-07-19T16:00:06.076Z  110.066315   86.488736      1  285d22e4\n",
       "3  2014-07-19T16:00:06.076Z  103.784990   71.456331      1  74d917a1\n",
       "4  2014-07-19T16:00:06.076Z  109.094950   92.824487      1  3c3649fb"
      ]
     },
     "execution_count": 7,
     "metadata": {},
     "output_type": "execute_result"
    }
   ],
   "source": [
    "df.head()"
   ]
  },
  {
   "cell_type": "markdown",
   "metadata": {},
   "source": [
    "## My assumptions\n",
    "TBD"
   ]
  },
  {
   "cell_type": "markdown",
   "metadata": {},
   "source": [
    "## Helpers"
   ]
  },
  {
   "cell_type": "code",
   "execution_count": 11,
   "metadata": {
    "collapsed": true
   },
   "outputs": [],
   "source": [
    "def get_subset(df, a, b):\n",
    "    \"\"\"\n",
    "    Returns a subset of DataFrame for user a and user b (data are duplicated to preserve the source)\n",
    "    :param df: dataset\n",
    "    :type board: pandas.core.frame.DataFrame\n",
    "    :param a: a first user id\n",
    "    :type a: str\n",
    "    :param b: state of the current game\n",
    "    :type b: a second user id\n",
    "    \"\"\"\n",
    "    assert a != b, \"uids should be different\"\n",
    "    return df[(df.uid == a) | (df.uid == b)].copy()"
   ]
  },
  {
   "cell_type": "markdown",
   "metadata": {},
   "source": [
    "## Extract a subset of the dataset for 2 user\n",
    "On one hand it is helping me to get a better intuition of the dataset. \n",
    "On the other hand, it will improve the next operations in terms of space and processing time. N is smaller.\n",
    "(I know I still have \"df\" in memory but let's assume it is not ;) )"
   ]
  },
  {
   "cell_type": "code",
   "execution_count": 10,
   "metadata": {
    "collapsed": true
   },
   "outputs": [],
   "source": [
    "a = '600dfbe2'\n",
    "b = '5e7b40e1'"
   ]
  },
  {
   "cell_type": "code",
   "execution_count": 12,
   "metadata": {
    "collapsed": true
   },
   "outputs": [],
   "source": [
    "subset = get_subset(df, a, b)"
   ]
  },
  {
   "cell_type": "code",
   "execution_count": 14,
   "metadata": {
    "collapsed": false
   },
   "outputs": [
    {
     "data": {
      "text/plain": [
       "timestamp    True\n",
       "x            True\n",
       "y            True\n",
       "floor        True\n",
       "uid          True\n",
       "dtype: bool"
      ]
     },
     "execution_count": 14,
     "metadata": {},
     "output_type": "execute_result"
    }
   ],
   "source": [
    "# the following assertion must be True\n",
    "subset.count() == df[df.uid == a].count() + df[df.uid == b].count()"
   ]
  },
  {
   "cell_type": "code",
   "execution_count": null,
   "metadata": {
    "collapsed": true
   },
   "outputs": [],
   "source": []
  }
 ],
 "metadata": {
  "kernelspec": {
   "display_name": "Python 3",
   "language": "python",
   "name": "python3"
  },
  "language_info": {
   "codemirror_mode": {
    "name": "ipython",
    "version": 3
   },
   "file_extension": ".py",
   "mimetype": "text/x-python",
   "name": "python",
   "nbconvert_exporter": "python",
   "pygments_lexer": "ipython3",
   "version": "3.5.1"
  }
 },
 "nbformat": 4,
 "nbformat_minor": 1
}
